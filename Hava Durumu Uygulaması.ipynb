{
 "cells": [
  {
   "cell_type": "code",
   "execution_count": 22,
   "id": "4ec37113",
   "metadata": {},
   "outputs": [],
   "source": [
    "from tkinter import*\n",
    "from PIL import ImageTk,Image\n",
    "from io import BytesIO\n",
    "import requests\n",
    "url='https://api.openweathermap.org/data/2.5/weather'"
   ]
  },
  {
   "cell_type": "code",
   "execution_count": 24,
   "id": "31981cf0",
   "metadata": {},
   "outputs": [],
   "source": [
    "api_key='26e35693eb7b72701fe6c91e22259488'\n",
    "iconUrl='https://openweathermap.org/img/wn/{}@2x.png'\n",
    "def getWeather(city):\n",
    "    params={'q':city,'appid':api_key,'lang':'tr'}\n",
    "    data=requests.get(url,params=params).json()\n",
    "    if data:\n",
    "        city=data['name'].capitalize()\n",
    "        country=data['sys']['country']\n",
    "        temp=int(data['main']['temp']-273.15)\n",
    "        icon=data['weather'][0]['icon']\n",
    "        condition=data['weather'][0]['description']\n",
    "        return (city,country,temp,icon,condition)\n",
    "    \"\"\"ilk main fonk içine entry den gelen değişkeni al\"\"\"\n",
    "def main():\n",
    "    city=cityEntry.get()\n",
    "    weather=getWeather(city)\n",
    "    if weather:\n",
    "        locationLabel['text']='{},{}'.format(weather[0],weather[1])\n",
    "        tempLabel['text']='{}°C'.format(weather[2])\n",
    "        conditionLabel['text']=weather[4]\n",
    "       # icon=ImageTk.PhotoImage(Image.open(requests.get(iconUrl.format(weather[3]))))\n",
    "        icon_response=requests.get(iconUrl.format(weather[3]))\n",
    "        icon_data=icon_response.content\n",
    "        icon_image=Image.open(BytesIO(icon_data))\n",
    "        icon=ImageTk.PhotoImage(icon_image)\n",
    "        iconLabel.configure(image=icon)\n",
    "        iconLabel.image=icon\n",
    "app=Tk()\n",
    "app.geometry('300x450')\n",
    "app.title('KK Hava Durumu')\n",
    "cityEntry=Entry(app,justify='center')\n",
    "cityEntry.pack(fill=BOTH,ipady=10,padx=18,pady=5)\n",
    "cityEntry.focus()\n",
    "\"\"\"main fonksiyonunu butona command olarak elememiz gerekiyorki fonk u kullanabilelim\"\"\"\n",
    "searchButton=Button(app,text='Arama',font=('Arial',15),command=main)\n",
    "searchButton.pack(fill=BOTH,ipady=10,padx=20)\n",
    "iconLabel=Label(app)\n",
    "iconLabel.pack()    \n",
    "locationLabel=Label(app,font=('Arial',40))\n",
    "locationLabel.pack()\n",
    "tempLabel=Label(app,font=('Arial',50,'bold'))\n",
    "tempLabel.pack()         \n",
    "conditionLabel=Label(app,font=('Arial',20))\n",
    "conditionLabel.pack()        \n",
    "app.mainloop()"
   ]
  },
  {
   "cell_type": "code",
   "execution_count": null,
   "id": "a9a2e436",
   "metadata": {},
   "outputs": [],
   "source": []
  },
  {
   "cell_type": "code",
   "execution_count": null,
   "id": "3665384a",
   "metadata": {},
   "outputs": [],
   "source": []
  }
 ],
 "metadata": {
  "kernelspec": {
   "display_name": "Python 3 (ipykernel)",
   "language": "python",
   "name": "python3"
  },
  "language_info": {
   "codemirror_mode": {
    "name": "ipython",
    "version": 3
   },
   "file_extension": ".py",
   "mimetype": "text/x-python",
   "name": "python",
   "nbconvert_exporter": "python",
   "pygments_lexer": "ipython3",
   "version": "3.12.4"
  }
 },
 "nbformat": 4,
 "nbformat_minor": 5
}
